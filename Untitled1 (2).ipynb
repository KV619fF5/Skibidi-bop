{
 "cells": [
  {
   "cell_type": "code",
   "execution_count": 1,
   "id": "e1ec827e",
   "metadata": {},
   "outputs": [],
   "source": [
    "#!/usr/bin/env python\n",
    "# coding: utf-8\n",
    "\n",
    "# In[1]:\n",
    "\n",
    "\n",
    "import pandas as pd\n",
    "data = pd.read_csv(r\"C:\\Users\\Gabriel\\Downloads\\1.ML LAB (1)\\1.ML LAB\\EX_3\\classification.csv\")\n",
    "data.head()\n",
    "\n",
    "\n",
    "# In[2]:\n",
    "\n",
    "\n",
    "x = data.iloc[:,:-1].values\n",
    "y = data.iloc[:,-1].values\n",
    "from sklearn.model_selection import train_test_split\n",
    "\n",
    "x_train,x_test,y_train,y_test = train_test_split(x,y, test_size=0.25,\n",
    "                                                random_state=0)\n",
    "\n",
    "\n",
    "# In[3]:\n",
    "\n",
    "\n",
    "from sklearn.preprocessing import StandardScaler\n",
    "sc = StandardScaler()\n",
    "\n",
    "x_train = sc.fit_transform(x_train)\n",
    "x_test = sc.transform(x_test)\n",
    "\n",
    "\n",
    "# In[4]:\n",
    "\n",
    "\n",
    "from sklearn.tree import DecisionTreeClassifier\n",
    "tree = DecisionTreeClassifier(criterion='entropy', max_depth=4)\n",
    "tree.fit(x_train,y_train)\n",
    "\n",
    "\n",
    "# In[5]:\n",
    "\n",
    "\n",
    "y_pred = tree.predict(x_test)\n",
    "\n"
   ]
  },
  {
   "cell_type": "code",
   "execution_count": 2,
   "id": "7b1aba1b",
   "metadata": {},
   "outputs": [],
   "source": [
    "from sklearn.metrics import accuracy_score"
   ]
  },
  {
   "cell_type": "code",
   "execution_count": 3,
   "id": "515842c3",
   "metadata": {},
   "outputs": [
    {
     "data": {
      "text/plain": [
       "0.93"
      ]
     },
     "execution_count": 3,
     "metadata": {},
     "output_type": "execute_result"
    }
   ],
   "source": [
    "accuracy_score(y_pred,y_test)"
   ]
  },
  {
   "cell_type": "code",
   "execution_count": 4,
   "id": "893b041f",
   "metadata": {},
   "outputs": [],
   "source": [
    "import pydotplus"
   ]
  },
  {
   "cell_type": "code",
   "execution_count": 5,
   "id": "b24b3086",
   "metadata": {},
   "outputs": [
    {
     "name": "stdout",
     "output_type": "stream",
     "text": [
      "Defaulting to user installation because normal site-packages is not writeable\n",
      "Requirement already satisfied: pydotplus in c:\\users\\gabriel\\appdata\\roaming\\python\\python39\\site-packages (2.0.2)\n",
      "Requirement already satisfied: pyparsing>=2.0.1 in c:\\programdata\\anaconda3\\lib\\site-packages (from pydotplus) (3.0.4)\n",
      "Note: you may need to restart the kernel to use updated packages.\n"
     ]
    }
   ],
   "source": [
    "pip install pydotplus"
   ]
  },
  {
   "cell_type": "code",
   "execution_count": 6,
   "id": "b54064e6",
   "metadata": {},
   "outputs": [],
   "source": [
    "import pydotplus\n"
   ]
  },
  {
   "cell_type": "code",
   "execution_count": 7,
   "id": "39a454e3",
   "metadata": {},
   "outputs": [],
   "source": [
    "from sklearn.tree import export_graphviz"
   ]
  },
  {
   "cell_type": "code",
   "execution_count": 8,
   "id": "297e89dd",
   "metadata": {},
   "outputs": [],
   "source": [
    "export_graphviz?"
   ]
  },
  {
   "cell_type": "code",
   "execution_count": 9,
   "id": "ef95b6f2",
   "metadata": {},
   "outputs": [],
   "source": [
    "graph=export_graphviz(tree)"
   ]
  },
  {
   "cell_type": "code",
   "execution_count": 10,
   "id": "940225d5",
   "metadata": {},
   "outputs": [
    {
     "data": {
      "text/plain": [
       "'digraph Tree {\\nnode [shape=box, fontname=\"helvetica\"] ;\\nedge [fontname=\"helvetica\"] ;\\n0 [label=\"X[0] <= 0.631\\\\nentropy = 0.951\\\\nsamples = 300\\\\nvalue = [189, 111]\"] ;\\n1 [label=\"X[1] <= 0.606\\\\nentropy = 0.693\\\\nsamples = 215\\\\nvalue = [175, 40]\"] ;\\n0 -> 1 [labeldistance=2.5, labelangle=45, headlabel=\"True\"] ;\\n2 [label=\"X[0] <= -0.161\\\\nentropy = 0.241\\\\nsamples = 176\\\\nvalue = [169, 7]\"] ;\\n1 -> 2 ;\\n3 [label=\"entropy = 0.0\\\\nsamples = 114\\\\nvalue = [114, 0]\"] ;\\n2 -> 3 ;\\n4 [label=\"X[1] <= -0.06\\\\nentropy = 0.509\\\\nsamples = 62\\\\nvalue = [55, 7]\"] ;\\n2 -> 4 ;\\n5 [label=\"entropy = 0.0\\\\nsamples = 31\\\\nvalue = [31, 0]\"] ;\\n4 -> 5 ;\\n6 [label=\"entropy = 0.771\\\\nsamples = 31\\\\nvalue = [24, 7]\"] ;\\n4 -> 6 ;\\n7 [label=\"X[1] <= 1.853\\\\nentropy = 0.619\\\\nsamples = 39\\\\nvalue = [6, 33]\"] ;\\n1 -> 7 ;\\n8 [label=\"X[1] <= 1.099\\\\nentropy = 0.779\\\\nsamples = 26\\\\nvalue = [6, 20]\"] ;\\n7 -> 8 ;\\n9 [label=\"entropy = 0.0\\\\nsamples = 8\\\\nvalue = [0, 8]\"] ;\\n8 -> 9 ;\\n10 [label=\"entropy = 0.918\\\\nsamples = 18\\\\nvalue = [6, 12]\"] ;\\n8 -> 10 ;\\n11 [label=\"entropy = 0.0\\\\nsamples = 13\\\\nvalue = [0, 13]\"] ;\\n7 -> 11 ;\\n12 [label=\"X[1] <= -0.814\\\\nentropy = 0.645\\\\nsamples = 85\\\\nvalue = [14, 71]\"] ;\\n0 -> 12 [labeldistance=2.5, labelangle=-45, headlabel=\"False\"] ;\\n13 [label=\"X[1] <= -1.365\\\\nentropy = 0.211\\\\nsamples = 30\\\\nvalue = [1, 29]\"] ;\\n12 -> 13 ;\\n14 [label=\"X[1] <= -1.394\\\\nentropy = 0.722\\\\nsamples = 5\\\\nvalue = [1, 4]\"] ;\\n13 -> 14 ;\\n15 [label=\"entropy = 0.0\\\\nsamples = 3\\\\nvalue = [0, 3]\"] ;\\n14 -> 15 ;\\n16 [label=\"entropy = 1.0\\\\nsamples = 2\\\\nvalue = [1, 1]\"] ;\\n14 -> 16 ;\\n17 [label=\"entropy = 0.0\\\\nsamples = 25\\\\nvalue = [0, 25]\"] ;\\n13 -> 17 ;\\n18 [label=\"X[0] <= 1.423\\\\nentropy = 0.789\\\\nsamples = 55\\\\nvalue = [13, 42]\"] ;\\n12 -> 18 ;\\n19 [label=\"X[1] <= 0.447\\\\nentropy = 0.946\\\\nsamples = 33\\\\nvalue = [12, 21]\"] ;\\n18 -> 19 ;\\n20 [label=\"entropy = 0.985\\\\nsamples = 14\\\\nvalue = [8, 6]\"] ;\\n19 -> 20 ;\\n21 [label=\"entropy = 0.742\\\\nsamples = 19\\\\nvalue = [4, 15]\"] ;\\n19 -> 21 ;\\n22 [label=\"X[1] <= -0.742\\\\nentropy = 0.267\\\\nsamples = 22\\\\nvalue = [1, 21]\"] ;\\n18 -> 22 ;\\n23 [label=\"entropy = 1.0\\\\nsamples = 2\\\\nvalue = [1, 1]\"] ;\\n22 -> 23 ;\\n24 [label=\"entropy = 0.0\\\\nsamples = 20\\\\nvalue = [0, 20]\"] ;\\n22 -> 24 ;\\n}'"
      ]
     },
     "execution_count": 10,
     "metadata": {},
     "output_type": "execute_result"
    }
   ],
   "source": [
    "graph"
   ]
  },
  {
   "cell_type": "code",
   "execution_count": 11,
   "id": "71dce1f1",
   "metadata": {},
   "outputs": [],
   "source": [
    "g=pydotplus.graph_from_dot_data(graph)"
   ]
  },
  {
   "cell_type": "code",
   "execution_count": 12,
   "id": "96953d8f",
   "metadata": {},
   "outputs": [
    {
     "ename": "InvocationException",
     "evalue": "GraphViz's executables not found",
     "output_type": "error",
     "traceback": [
      "\u001b[1;31m---------------------------------------------------------------------------\u001b[0m",
      "\u001b[1;31mInvocationException\u001b[0m                       Traceback (most recent call last)",
      "Input \u001b[1;32mIn [12]\u001b[0m, in \u001b[0;36m<cell line: 1>\u001b[1;34m()\u001b[0m\n\u001b[1;32m----> 1\u001b[0m \u001b[43mg\u001b[49m\u001b[38;5;241;43m.\u001b[39;49m\u001b[43mwrite_png\u001b[49m\u001b[43m(\u001b[49m\u001b[38;5;124;43m'\u001b[39;49m\u001b[38;5;124;43mgraph.png\u001b[39;49m\u001b[38;5;124;43m'\u001b[39;49m\u001b[43m)\u001b[49m\n",
      "File \u001b[1;32m~\\AppData\\Roaming\\Python\\Python39\\site-packages\\pydotplus\\graphviz.py:1810\u001b[0m, in \u001b[0;36mDot.__init__.<locals>.<lambda>\u001b[1;34m(path, f, prog)\u001b[0m\n\u001b[0;32m   1800\u001b[0m     f\u001b[38;5;241m.\u001b[39m\u001b[38;5;18m__doc__\u001b[39m \u001b[38;5;241m=\u001b[39m (\n\u001b[0;32m   1801\u001b[0m         \u001b[38;5;124;03m'''Refer to the docstring accompanying the'''\u001b[39;00m\n\u001b[0;32m   1802\u001b[0m         \u001b[38;5;124;03m''''create' method for more information.'''\u001b[39;00m\n\u001b[0;32m   1803\u001b[0m     )\n\u001b[0;32m   1805\u001b[0m \u001b[38;5;28;01mfor\u001b[39;00m frmt \u001b[38;5;129;01min\u001b[39;00m \u001b[38;5;28mself\u001b[39m\u001b[38;5;241m.\u001b[39mformats \u001b[38;5;241m+\u001b[39m [\u001b[38;5;124m'\u001b[39m\u001b[38;5;124mraw\u001b[39m\u001b[38;5;124m'\u001b[39m]:\n\u001b[0;32m   1806\u001b[0m     \u001b[38;5;28mself\u001b[39m\u001b[38;5;241m.\u001b[39m\u001b[38;5;21m__setattr__\u001b[39m(\n\u001b[0;32m   1807\u001b[0m         \u001b[38;5;124m'\u001b[39m\u001b[38;5;124mwrite_\u001b[39m\u001b[38;5;124m'\u001b[39m \u001b[38;5;241m+\u001b[39m frmt,\n\u001b[0;32m   1808\u001b[0m         \u001b[38;5;28;01mlambda\u001b[39;00m path,\n\u001b[0;32m   1809\u001b[0m         f\u001b[38;5;241m=\u001b[39mfrmt,\n\u001b[1;32m-> 1810\u001b[0m         prog\u001b[38;5;241m=\u001b[39m\u001b[38;5;28mself\u001b[39m\u001b[38;5;241m.\u001b[39mprog: \u001b[38;5;28;43mself\u001b[39;49m\u001b[38;5;241;43m.\u001b[39;49m\u001b[43mwrite\u001b[49m\u001b[43m(\u001b[49m\u001b[43mpath\u001b[49m\u001b[43m,\u001b[49m\u001b[43m \u001b[49m\u001b[38;5;28;43mformat\u001b[39;49m\u001b[38;5;241;43m=\u001b[39;49m\u001b[43mf\u001b[49m\u001b[43m,\u001b[49m\u001b[43m \u001b[49m\u001b[43mprog\u001b[49m\u001b[38;5;241;43m=\u001b[39;49m\u001b[43mprog\u001b[49m\u001b[43m)\u001b[49m\n\u001b[0;32m   1811\u001b[0m     )\n\u001b[0;32m   1813\u001b[0m     f \u001b[38;5;241m=\u001b[39m \u001b[38;5;28mself\u001b[39m\u001b[38;5;241m.\u001b[39m\u001b[38;5;18m__dict__\u001b[39m[\u001b[38;5;124m'\u001b[39m\u001b[38;5;124mwrite_\u001b[39m\u001b[38;5;124m'\u001b[39m \u001b[38;5;241m+\u001b[39m frmt]\n\u001b[0;32m   1814\u001b[0m     f\u001b[38;5;241m.\u001b[39m\u001b[38;5;18m__doc__\u001b[39m \u001b[38;5;241m=\u001b[39m (\n\u001b[0;32m   1815\u001b[0m         \u001b[38;5;124;03m'''Refer to the docstring accompanying the'''\u001b[39;00m\n\u001b[0;32m   1816\u001b[0m         \u001b[38;5;124;03m''''write' method for more information.'''\u001b[39;00m\n\u001b[0;32m   1817\u001b[0m     )\n",
      "File \u001b[1;32m~\\AppData\\Roaming\\Python\\Python39\\site-packages\\pydotplus\\graphviz.py:1918\u001b[0m, in \u001b[0;36mDot.write\u001b[1;34m(self, path, prog, format)\u001b[0m\n\u001b[0;32m   1915\u001b[0m         fobj\u001b[38;5;241m.\u001b[39mwrite(data)\n\u001b[0;32m   1917\u001b[0m     \u001b[38;5;28;01melse\u001b[39;00m:\n\u001b[1;32m-> 1918\u001b[0m         fobj\u001b[38;5;241m.\u001b[39mwrite(\u001b[38;5;28;43mself\u001b[39;49m\u001b[38;5;241;43m.\u001b[39;49m\u001b[43mcreate\u001b[49m\u001b[43m(\u001b[49m\u001b[43mprog\u001b[49m\u001b[43m,\u001b[49m\u001b[43m \u001b[49m\u001b[38;5;28;43mformat\u001b[39;49m\u001b[43m)\u001b[49m)\n\u001b[0;32m   1919\u001b[0m \u001b[38;5;28;01mfinally\u001b[39;00m:\n\u001b[0;32m   1920\u001b[0m     \u001b[38;5;28;01mif\u001b[39;00m close:\n",
      "File \u001b[1;32m~\\AppData\\Roaming\\Python\\Python39\\site-packages\\pydotplus\\graphviz.py:1959\u001b[0m, in \u001b[0;36mDot.create\u001b[1;34m(self, prog, format)\u001b[0m\n\u001b[0;32m   1957\u001b[0m     \u001b[38;5;28mself\u001b[39m\u001b[38;5;241m.\u001b[39mprogs \u001b[38;5;241m=\u001b[39m find_graphviz()\n\u001b[0;32m   1958\u001b[0m     \u001b[38;5;28;01mif\u001b[39;00m \u001b[38;5;28mself\u001b[39m\u001b[38;5;241m.\u001b[39mprogs \u001b[38;5;129;01mis\u001b[39;00m \u001b[38;5;28;01mNone\u001b[39;00m:\n\u001b[1;32m-> 1959\u001b[0m         \u001b[38;5;28;01mraise\u001b[39;00m InvocationException(\n\u001b[0;32m   1960\u001b[0m             \u001b[38;5;124m'\u001b[39m\u001b[38;5;124mGraphViz\u001b[39m\u001b[38;5;130;01m\\'\u001b[39;00m\u001b[38;5;124ms executables not found\u001b[39m\u001b[38;5;124m'\u001b[39m)\n\u001b[0;32m   1962\u001b[0m \u001b[38;5;28;01mif\u001b[39;00m prog \u001b[38;5;129;01mnot\u001b[39;00m \u001b[38;5;129;01min\u001b[39;00m \u001b[38;5;28mself\u001b[39m\u001b[38;5;241m.\u001b[39mprogs:\n\u001b[0;32m   1963\u001b[0m     \u001b[38;5;28;01mraise\u001b[39;00m InvocationException(\n\u001b[0;32m   1964\u001b[0m         \u001b[38;5;124m'\u001b[39m\u001b[38;5;124mGraphViz\u001b[39m\u001b[38;5;130;01m\\'\u001b[39;00m\u001b[38;5;124ms executable \u001b[39m\u001b[38;5;124m\"\u001b[39m\u001b[38;5;132;01m%s\u001b[39;00m\u001b[38;5;124m\"\u001b[39m\u001b[38;5;124m not found\u001b[39m\u001b[38;5;124m'\u001b[39m \u001b[38;5;241m%\u001b[39m prog)\n",
      "\u001b[1;31mInvocationException\u001b[0m: GraphViz's executables not found"
     ]
    }
   ],
   "source": [
    "g.write_png('graph.png')"
   ]
  },
  {
   "cell_type": "code",
   "execution_count": null,
   "id": "40c31a60",
   "metadata": {},
   "outputs": [],
   "source": []
  },
  {
   "cell_type": "code",
   "execution_count": null,
   "id": "508ce884",
   "metadata": {},
   "outputs": [],
   "source": []
  },
  {
   "cell_type": "code",
   "execution_count": null,
   "id": "c3344a8d",
   "metadata": {},
   "outputs": [],
   "source": []
  },
  {
   "cell_type": "code",
   "execution_count": 13,
   "id": "f81831d0",
   "metadata": {},
   "outputs": [],
   "source": [
    "from sklearn import svm\n",
    "from sklearn.svm import SVC\n",
    "clf= SVC()"
   ]
  },
  {
   "cell_type": "code",
   "execution_count": 14,
   "id": "cfadde37",
   "metadata": {},
   "outputs": [
    {
     "data": {
      "text/plain": [
       "SVC()"
      ]
     },
     "execution_count": 14,
     "metadata": {},
     "output_type": "execute_result"
    }
   ],
   "source": [
    "clf.fit(x_train,y_train)"
   ]
  },
  {
   "cell_type": "code",
   "execution_count": 15,
   "id": "dbba76b5",
   "metadata": {},
   "outputs": [],
   "source": [
    "y_pred=clf.predict(x_test)"
   ]
  },
  {
   "cell_type": "code",
   "execution_count": null,
   "id": "c6c08558",
   "metadata": {},
   "outputs": [],
   "source": [
    "from sklearn.metrics import accuracy_score\n",
    "accuracy_score"
   ]
  }
 ],
 "metadata": {
  "kernelspec": {
   "display_name": "Python 3 (ipykernel)",
   "language": "python",
   "name": "python3"
  },
  "language_info": {
   "codemirror_mode": {
    "name": "ipython",
    "version": 3
   },
   "file_extension": ".py",
   "mimetype": "text/x-python",
   "name": "python",
   "nbconvert_exporter": "python",
   "pygments_lexer": "ipython3",
   "version": "3.9.12"
  }
 },
 "nbformat": 4,
 "nbformat_minor": 5
}
